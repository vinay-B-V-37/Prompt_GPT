{
 "cells": [
  {
   "cell_type": "code",
   "execution_count": null,
   "id": "6d1903c8-1ed8-4191-b7d5-a3a9f4cec714",
   "metadata": {},
   "outputs": [],
   "source": [
    "!pip install python-dotenv\n"
   ]
  },
  {
   "cell_type": "code",
   "execution_count": 2,
   "id": "6d83e4d4-bd89-4c66-af65-5080a6dcb710",
   "metadata": {},
   "outputs": [],
   "source": [
    "import openai\n",
    "import os\n",
    "\n",
    "from dotenv import load_dotenv, find_dotenv\n",
    "_ = load_dotenv(find_dotenv()) \n",
    "\n",
    "openai.api_key  = ' YOUR_OWN_API_KEY'"
   ]
  },
  {
   "cell_type": "code",
   "execution_count": 3,
   "id": "a7402149-9337-40ef-8d8f-73e45d131186",
   "metadata": {},
   "outputs": [],
   "source": [
    "def get_completion(prompt, model=\"gpt-3.5-turbo\"): \n",
    "    messages = [{\"role\": \"user\", \"content\": prompt}]\n",
    "    response = openai.ChatCompletion.create(\n",
    "        model=model,\n",
    "        messages=messages,\n",
    "        temperature=0, \n",
    "    )\n",
    "    return response.choices[0].message[\"content\"] \n"
   ]
  },
  {
   "cell_type": "code",
   "execution_count": 6,
   "id": "dc7b0e83-2045-4bef-b3f1-a4752bd3f491",
   "metadata": {},
   "outputs": [],
   "source": [
    "describe = \"\"\"\n",
    " Instruct the model with specfic instructions and structured data of your model (Supervised Learnig) \n",
    "\n",
    "\"\"\""
   ]
  },
  {
   "cell_type": "code",
   "execution_count": null,
   "id": "55093ab7-d788-420e-b498-4ca00f985c39",
   "metadata": {},
   "outputs": [],
   "source": [
    "prompt = f\"\"\"\n",
    "Summarize about your desired output ,idea of the required output\n",
    "# for specfic \n",
    "describe: ```{describe}```\n",
    "\"\"\"\n",
    "\n",
    "response = get_completion(prompt)\n",
    "print(response)\n"
   ]
  },
  {
   "cell_type": "code",
   "execution_count": null,
   "id": "6acd4ebc-1f0c-41be-b094-c555a8b3dc0e",
   "metadata": {},
   "outputs": [],
   "source": []
  }
 ],
 "metadata": {
  "kernelspec": {
   "display_name": "Python 3 (ipykernel)",
   "language": "python",
   "name": "python3"
  },
  "language_info": {
   "codemirror_mode": {
    "name": "ipython",
    "version": 3
   },
   "file_extension": ".py",
   "mimetype": "text/x-python",
   "name": "python",
   "nbconvert_exporter": "python",
   "pygments_lexer": "ipython3",
   "version": "3.11.4"
  }
 },
 "nbformat": 4,
 "nbformat_minor": 5
}
